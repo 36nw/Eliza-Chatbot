{
 "cells": [
  {
   "cell_type": "markdown",
   "id": "7a7bda7c-c884-44d3-8ff7-a93fe69a2982",
   "metadata": {},
   "source": [
    "## AIT526-S01 Programming Assignment 1 - Chatbot Eliza\n",
    "---------------------------------------------------------------------------------------\n",
    "\n",
    "Created by Dr. Liao (6/5/2020)\n",
    "\n",
    "Professor Maryam Heidari\n",
    "\n",
    "---------------------------------------------------------------------------------------\n",
    "Group 4\n",
    "\n",
    "Students' Full Name: Penny O'Brien, Maniphone Sourivong, Muge Yalcin\n",
    "\n",
    "Submission Date: 6/10/2023\n",
    "\n",
    "---------------------------------------------------------------------------------------\n",
    "### Programming Assignment - Chatbot"
   ]
  },
  {
   "cell_type": "markdown",
   "id": "c18df44b-c764-4bc5-931a-4e32a64aaec9",
   "metadata": {
    "tags": []
   },
   "source": [
    "##### Import libraries"
   ]
  },
  {
   "cell_type": "code",
   "execution_count": 1,
   "id": "bd22d6b5-a48f-4aa7-a5d3-4d3035129f0a",
   "metadata": {
    "tags": []
   },
   "outputs": [],
   "source": [
    "import re\n",
    "import random\n",
    "import tkinter as tk\n",
    "from tkinter import ttk\n",
    "from nltk.tokenize import RegexpTokenizer"
   ]
  },
  {
   "cell_type": "markdown",
   "id": "1e4491f9-18b4-480a-bae9-048a10ef01b0",
   "metadata": {},
   "source": [
    "##### Create conversation starter"
   ]
  },
  {
   "cell_type": "code",
   "execution_count": 2,
   "id": "c23e9da8-e568-4e30-b21f-0acb8f030689",
   "metadata": {},
   "outputs": [],
   "source": [
    "CONVERSATION_STARTER = \"Hi, I'm a psychotherapist. What is your name?\"\n",
    "USER_NAME = \"\""
   ]
  },
  {
   "cell_type": "markdown",
   "id": "9c6aa442-0d5e-4b5c-b55a-542828240657",
   "metadata": {},
   "source": [
    "##### Create rules to match words with corresponding responses"
   ]
  },
  {
   "cell_type": "code",
   "execution_count": 3,
   "id": "03aaa861-0708-4b51-8404-3270fdca6aee",
   "metadata": {},
   "outputs": [],
   "source": [
    "RULES = {\n",
    "    r\".*name.*\\b(\\w+)$\": {'type': 'name', 'responses': ['Hi {name} ! How can I help you today?', 'It is very nice to meet you {name}, how may I help you?']},\n",
    "    r\".*suicid.*|.*kill.*\": {'type': 'alert', 'responses': [\"If you're feeling suicidal, please seek help from a trusted adult or call a helpline.\"]},\n",
    "    r\"\\byes\\b|\\bno\\b|\\bright\\b|\\bnope\\b\": {'type': 'short_ans', 'responses': ['Tell me more.', 'Can you expand on that?', 'Are you sure?', \"Are you comfortable in telling me more about it?\"]},\n",
    "    r\".*want(.*)\": {'type': 'want', 'responses': [\"Tell me more about what you want.\", \"Why do you want{}?\", \"What would you feel if you get{}?\"]},\n",
    "    r\".*crave (.*)|.*craving (.*)\": {'type': 'want', 'responses': [\"Tell me more about your cravings.\", \"What specifically are you craving?\", \"Why are you crawing {}\"]},\n",
    "    r\".*i am(.*)|.*i'm(.*)|.*i have been(.*)\": {'type': 'am', 'responses': [\"How long have you been{}?\",\"Why do you think you are{}?\", \"How does being{} make you feel?\", \"Why are you{}?\"]},\n",
    "    r\".*because(.*)\": {'type': 'explain', 'responses': [\"Really? Just because{}?\"]},\n",
    "    r\".*dunno.*|.*idk.*|.*i don.t know.*|.*i dont know.*\": {'type': 'explain', 'responses': [\"Maybe you know, can you try to explain?\", \"Please try your best to explain?\"]},\n",
    "    r\".*feel(.*)\": {'type': 'feels', 'responses': [\"What is making you feel{}?\", \"Why do you think you feel{}?\", \"Since when have you been feeling{}?\"]},\n",
    "    r\".*think(.*)\": {'type': 'feels', 'responses': [\"Why do you think that {}?\"]},\n",
    "    r\"(.*thanks.*)\": {'type': 'acknowledgment', 'responses': [\"No problem! Is there anything else you need?\", \"I'm glad to help {name}. Anything else I can help you with?\", \"You're welcome {name}! What else can I do for you?\"]},\n",
    "    r\".*(sorry.*)\": {'type': 'feels', 'responses': [\"Don't worry about it. You don't need to apologize\"]},\n",
    "    r\"(.*how are you.*)\": {'type': 'question', 'responses': [\"I'm doing fine, thank you! How about you?\"]},\n",
    "    r\"(.*what is your name.*)\": {'type': 'question', 'responses': [\"My name is Eliza, pleased to meet you {name}!\"]},\n",
    "    r\"exit|quit|bye|goodbye\": {'type': 'exit', 'responses': [\"Goodbye {name}! Take care!\"]},\n",
    "    r\"hello|hi|hey\": {'type': 'exit', 'responses': [\"Hello {name}, how can I help you today?\"]},\n",
    "    r\"^(?![\\s\\S])\": {'type': 'none', 'responses': [\"Are you there {name}?\", \"Hello?\"]},\n",
    "    r\"(.*)\": {'type': 'unknown', 'responses': [\"I'm sorry, I didn't understand. Can you say that another way?\"]}\n",
    "}"
   ]
  },
  {
   "cell_type": "markdown",
   "id": "a8fefc12-7f1a-4a5b-a7ee-a5ff9e533be8",
   "metadata": {
    "tags": []
   },
   "source": [
    "##### Create response converters"
   ]
  },
  {
   "cell_type": "code",
   "execution_count": 4,
   "id": "517de647-159f-4c79-a186-ef89382a523a",
   "metadata": {},
   "outputs": [],
   "source": [
    "CONVERTERS = {\n",
    "    r'\\bi\\b|\\bme\\b': 'you',\n",
    "    r\"\\bmy\\b|\\bour\\b\": 'your',\n",
    "    r\"\\bam\\b|\\bm\\b\": 'are',\n",
    "    r\"\\bmyself\\b\": 'yourself',\n",
    "    r\"\\bim\\b\": 'you are',\n",
    "  }"
   ]
  },
  {
   "cell_type": "markdown",
   "id": "d9c64a6e-52c6-48ea-8f82-ea2995f6386d",
   "metadata": {},
   "source": [
    "##### Tokenize input"
   ]
  },
  {
   "cell_type": "code",
   "execution_count": 5,
   "id": "4255c033-c45a-4cc2-80e0-bf6c80c2fd78",
   "metadata": {},
   "outputs": [],
   "source": [
    "tokenizer = RegexpTokenizer(r'\\w+')\n",
    "\n",
    "def clean_input(input_text):\n",
    "    tokens = tokenizer.tokenize(input_text)\n",
    "    tokens = [token.lower() for token in tokens]\n",
    "    return \" \".join(tokens)\n",
    "\n",
    "def replace_words(response):\n",
    "    for pattern, replacement in CONVERTERS.items():\n",
    "        response = re.sub(pattern, replacement, response)\n",
    "    return response\n",
    "\n",
    "def capture_user_name(input_text):\n",
    "    match = re.match(r\".*name.*\\b(\\w+)\", input_text)\n",
    "    if match:\n",
    "        return match.group(1)\n",
    "    return \"\"\n",
    "\n",
    "def generate_response(user_input):\n",
    "    cleaned_input = clean_input(user_input)\n",
    "\n",
    "    if cleaned_input == \"exit\" or cleaned_input == \"quit\":\n",
    "        return \"Farewell, take care!\"\n",
    "\n",
    "    global USER_NAME\n",
    "\n",
    "    if not USER_NAME:\n",
    "        USER_NAME = capture_user_name(cleaned_input)\n",
    "\n",
    "    for pattern, rule in RULES.items():\n",
    "        match = re.match(pattern, cleaned_input)\n",
    "        if match:\n",
    "            response_type = rule['type']\n",
    "            responses = rule['responses']\n",
    "            response = random.choice(responses)\n",
    "            response = response.replace(\"{name}\", USER_NAME)\n",
    "            response = response.format(*match.groups())\n",
    "            response = replace_words(response)\n",
    "\n",
    "            return response\n",
    "\n",
    "    return \"I'm sorry, I didn't understand. Can you say that another way?\""
   ]
  },
  {
   "cell_type": "markdown",
   "id": "201d7e0f-ff86-4464-a2ca-581f1267862f",
   "metadata": {},
   "source": [
    "##### Create GUI"
   ]
  },
  {
   "cell_type": "code",
   "execution_count": 6,
   "id": "e7b6a774-6906-4583-b1f3-0531747eac94",
   "metadata": {},
   "outputs": [],
   "source": [
    "def add_message(message, sender):\n",
    "    chat_text.configure(state=tk.NORMAL)\n",
    "    chat_text.insert(tk.END, message + \"\\n\", sender)\n",
    "    chat_text.configure(state=tk.DISABLED)\n",
    "    chat_text.see(tk.END)\n",
    "\n",
    "def send_message():\n",
    "    user_input = input_text.get(\"1.0\", \"end-1c\").strip()\n",
    "    input_text.delete(\"1.0\", tk.END)\n",
    "\n",
    "    if user_input.lower() in [\"exit\", \"quit\"]:\n",
    "        root.quit()\n",
    "\n",
    "    response = generate_response(user_input)\n",
    "    add_message(\"You: \" + user_input, \"You\")\n",
    "    add_message(\"Eliza: \" + response, \"Eliza\")\n",
    "\n",
    "# Create a GUI window\n",
    "root = tk.Tk()\n",
    "root.title(\"Chatbot\")\n",
    "root.configure(bg=\"#cffdbc\")  # Set the background color\n",
    "\n",
    "# Create a display area\n",
    "chat_text = tk.Text(root, height=20, width=70)\n",
    "chat_text.configure(state=tk.DISABLED)\n",
    "chat_text.grid(row=0, column=0, padx=10, pady=10, sticky=\"nsew\")\n",
    "\n",
    "# Set the grid weights to allow the display area to expand as needed.\n",
    "root.grid_rowconfigure(0, weight=1)\n",
    "root.grid_columnconfigure(0, weight=1)\n",
    "\n",
    "# Create a scrollbar\n",
    "scrollbar = ttk.Scrollbar(root, orient=tk.VERTICAL, command=chat_text.yview)\n",
    "scrollbar.grid(row=0, column=1, sticky=\"ns\")\n",
    "chat_text.configure(yscrollcommand=scrollbar.set)\n",
    "\n",
    "# Create an input area\n",
    "input_text = tk.Text(root, height=4, width=50)\n",
    "input_text.grid(row=1, column=0, padx=10, pady=10, sticky=\"ew\")\n",
    "\n",
    "# Create a send button\n",
    "send_button = ttk.Button(root, text=\"Send\", command=send_message)\n",
    "send_button.grid(row=1, column=1, padx=10, pady=10, sticky=\"e\")\n",
    "\n",
    "# Start the conversation\n",
    "add_message(\"Eliza: \" + CONVERSATION_STARTER, \"Eliza\")\n",
    "\n",
    "# Run the GUI window\n",
    "root.mainloop()"
   ]
  },
  {
   "cell_type": "markdown",
   "id": "7b9bb70f-3f67-45bf-8e73-a844de1ac334",
   "metadata": {},
   "source": [
    "### References\n",
    "\n",
    "Anon. n.d. Tkinter 8.5 Reference: A Gui for Python. Retrieved June 3, 2023 (https://tkdocs.com/shipman/). Real Python. 2023. “Python GUI Programming with Tkinter.” Real Python. Retrieved June 3, 2023 (https://realpython.com/python-gui-tkinter/)."
   ]
  },
  {
   "cell_type": "code",
   "execution_count": null,
   "id": "b8e79932-2940-45a9-b4d5-798116fde9ae",
   "metadata": {},
   "outputs": [],
   "source": []
  }
 ],
 "metadata": {
  "kernelspec": {
   "display_name": "Python 3 (ipykernel)",
   "language": "python",
   "name": "python3"
  },
  "language_info": {
   "codemirror_mode": {
    "name": "ipython",
    "version": 3
   },
   "file_extension": ".py",
   "mimetype": "text/x-python",
   "name": "python",
   "nbconvert_exporter": "python",
   "pygments_lexer": "ipython3",
   "version": "3.10.9"
  }
 },
 "nbformat": 4,
 "nbformat_minor": 5
}
